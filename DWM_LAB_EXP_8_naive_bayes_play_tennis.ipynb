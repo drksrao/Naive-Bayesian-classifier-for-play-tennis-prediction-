{
  "nbformat": 4,
  "nbformat_minor": 5,
  "metadata": {
    "kernelspec": {
      "display_name": "Python 3",
      "language": "python",
      "name": "python3"
    },
    "language_info": {
      "codemirror_mode": {
        "name": "ipython",
        "version": 3
      },
      "file_extension": ".py",
      "mimetype": "text/x-python",
      "name": "python",
      "nbconvert_exporter": "python",
      "pygments_lexer": "ipython3",
      "version": "3.8.8"
    },
    "colab": {
      "provenance": [],
      "collapsed_sections": []
    }
  },
  "cells": [
    {
      "cell_type": "markdown",
      "source": [
        "**EXP-8: Implement Naive-Bayesian classifier method and Calculate accuracy of the classification. (Weka/Python)**"
      ],
      "metadata": {
        "id": "WMOgNeOrUN-v"
      },
      "id": "WMOgNeOrUN-v"
    },
    {
      "cell_type": "code",
      "source": [
        "#Defining Dataset¶\n",
        "#In this example, you can use the dummy dataset with three columns: weather, temperature, and Play . \n",
        "#The first two are features(weather, temperature) and the other is the label."
      ],
      "metadata": {
        "id": "1CUTtau4UO92"
      },
      "id": "1CUTtau4UO92",
      "execution_count": null,
      "outputs": []
    },
    {
      "cell_type": "code",
      "metadata": {
        "id": "4ccae903"
      },
      "source": [
        "# Assigning features and label variables\n",
        "weather=['Sunny','Sunny','Overcast','Rainy','Rainy','Rainy','Overcast','Sunny','Sunny',\n",
        "'Rainy','Sunny','Overcast','Overcast','Rainy']\n",
        "temp=['Hot','Hot','Hot','Mild','Cool','Cool','Cool','Mild','Cool','Mild','Mild','Mild','Hot','Mild']\n",
        "\n",
        "play=['No','No','Yes','Yes','Yes','No','Yes','No','Yes','Yes','Yes','Yes','Yes','No']"
      ],
      "id": "4ccae903",
      "execution_count": null,
      "outputs": []
    },
    {
      "cell_type": "code",
      "metadata": {
        "id": "711b6f82"
      },
      "source": [
        "#Encoding Features\n",
        "#First, you need to convert these string labels into numbers. for example: 'Overcast', 'Rainy', 'Sunny' as 0, 1, 2.\n",
        "#This is known as label encoding. Scikit-learn provides LabelEncoder library for encoding labels with a \n",
        "#value between 0 and one less than the number of discrete classes."
      ],
      "id": "711b6f82",
      "execution_count": null,
      "outputs": []
    },
    {
      "cell_type": "code",
      "metadata": {
        "id": "24b7484b"
      },
      "source": [
        "# Import LabelEncoder\n",
        "from sklearn import preprocessing\n",
        "#creating labelEncoder\n",
        "le = preprocessing.LabelEncoder()\n"
      ],
      "id": "24b7484b",
      "execution_count": null,
      "outputs": []
    },
    {
      "cell_type": "code",
      "metadata": {
        "id": "42dba654",
        "colab": {
          "base_uri": "https://localhost:8080/"
        },
        "outputId": "fc071465-5a50-438d-ce56-701f8cf519eb"
      },
      "source": [
        "# Converting string labels into numbers.\n",
        "weather_encoded=le.fit_transform(weather)\n",
        "print (weather_encoded)#0-Over cast, 1-Rainy, 2-sunny"
      ],
      "id": "42dba654",
      "execution_count": null,
      "outputs": [
        {
          "output_type": "stream",
          "name": "stdout",
          "text": [
            "[2 2 0 1 1 1 0 2 2 1 2 0 0 1]\n"
          ]
        }
      ]
    },
    {
      "cell_type": "code",
      "metadata": {
        "id": "7ce0dec2"
      },
      "source": [
        "#Similarly, you can also encode temp and Play columns."
      ],
      "id": "7ce0dec2",
      "execution_count": null,
      "outputs": []
    },
    {
      "cell_type": "code",
      "metadata": {
        "id": "b37f6c3a",
        "colab": {
          "base_uri": "https://localhost:8080/"
        },
        "outputId": "d4713f9c-d7c6-415f-a4d9-aad4eae1754b"
      },
      "source": [
        "# Converting string labels into numbers\n",
        "temp_encoded=le.fit_transform(temp)\n",
        "label=le.fit_transform(play)\n",
        "print (\"Temp:\",temp_encoded)#0-cool, 1-hot, 2-mild\n",
        "print (\"Play:\",label)#0-no, 1-yes"
      ],
      "id": "b37f6c3a",
      "execution_count": null,
      "outputs": [
        {
          "output_type": "stream",
          "name": "stdout",
          "text": [
            "Temp: [1 1 1 2 0 0 0 2 0 2 2 2 1 2]\n",
            "Play: [0 0 1 1 1 0 1 0 1 1 1 1 1 0]\n"
          ]
        }
      ]
    },
    {
      "cell_type": "code",
      "metadata": {
        "id": "0823553e"
      },
      "source": [
        "#Now combine both the features (weather and temp) in a single variable (list of tuples)."
      ],
      "id": "0823553e",
      "execution_count": null,
      "outputs": []
    },
    {
      "cell_type": "code",
      "metadata": {
        "id": "19f9367a",
        "colab": {
          "base_uri": "https://localhost:8080/"
        },
        "outputId": "bcd7e9a7-40de-4d20-f5d4-3adfa7d9c11f"
      },
      "source": [
        "#Combinig weather and temp into single listof tuples\n",
        "features = [tup for tup in zip(weather_encoded, temp_encoded)]\n",
        "print (features)"
      ],
      "id": "19f9367a",
      "execution_count": null,
      "outputs": [
        {
          "output_type": "stream",
          "name": "stdout",
          "text": [
            "[(2, 1), (2, 1), (0, 1), (1, 2), (1, 0), (1, 0), (0, 0), (2, 2), (2, 0), (1, 2), (2, 2), (0, 2), (0, 1), (1, 2)]\n"
          ]
        }
      ]
    },
    {
      "cell_type": "code",
      "metadata": {
        "id": "28eff29f"
      },
      "source": [
        "#Generating Model\n",
        "#Generate a model using naive bayes classifier in the following steps:\n",
        "\n",
        "#Create naive bayes classifier\n",
        "#Fit the dataset on classifier\n",
        "#Perform prediction"
      ],
      "id": "28eff29f",
      "execution_count": null,
      "outputs": []
    },
    {
      "cell_type": "code",
      "metadata": {
        "id": "67b7b29f",
        "colab": {
          "base_uri": "https://localhost:8080/"
        },
        "outputId": "ef0f10b7-e5ea-4527-bec7-c4cfbdeb0744"
      },
      "source": [
        "#Import Gaussian Naive Bayes model\n",
        "from sklearn.naive_bayes import GaussianNB\n",
        "\n",
        "#Create a Gaussian Classifier\n",
        "model = GaussianNB()\n",
        "\n",
        "# Train the model using the training sets\n",
        "model.fit(features,label)\n",
        "\n",
        "#Predict Output\n",
        "predicted= model.predict([[2,1]]) # 0:Overcast, 2:Mild\n",
        "print (\"Predicted Value:\", predicted)"
      ],
      "id": "67b7b29f",
      "execution_count": null,
      "outputs": [
        {
          "output_type": "stream",
          "name": "stdout",
          "text": [
            "Predicted Value: [0]\n"
          ]
        }
      ]
    },
    {
      "cell_type": "code",
      "metadata": {
        "id": "a9b4da58"
      },
      "source": [
        "#Predicted Value: [1]\n",
        "#Here, 1 indicates that Play ers can 'Play '."
      ],
      "id": "a9b4da58",
      "execution_count": null,
      "outputs": []
    },
    {
      "cell_type": "code",
      "metadata": {
        "id": "72fae074",
        "outputId": "d61efe1d-97f2-4922-9fdd-44aa460b5cec"
      },
      "source": [
        "# Naive Bayes with Multiple Labels\n",
        "\n",
        "Till now you have learned Naive Bayes classification with binary labels. Now you will learn about multiple class classification in Naive Bayes. Which is known as multinomial Naive Bayes classification. For example, if you want to classify a news article about technology, entertainment, politics, or sports.\n",
        "\n",
        "In model building part, you can use wine dataset which is a very famous multi-class classification problem. \"This dataset is the result of a chemical analysis of wines grown in the same region in Italy but derived from three different cultivars.\" ([UC Irvine](https://archive.ics.uci.edu/ml/datasets/wine))\n",
        "\n",
        "Dataset comprises of 13 features (alcohol, malic_acid, ash, alcalinity_of_ash, magnesium, total_phenols, flavanoids, nonflavanoid_phenols, proanthocyanins, color_intensity, hue, od280/od315_of_diluted_wines, proline) and type of wine cultivar. This data has three type of wine Class_0, Class_1, and Class_3. Here you can build a model to classify the type of wine.\n",
        "\n",
        "The dataset is available in the scikit-learn library.\n",
        "#\n",
        "\n",
        "\n"
      ],
      "id": "72fae074",
      "execution_count": null,
      "outputs": [
        {
          "output_type": "error",
          "ename": "SyntaxError",
          "evalue": "invalid syntax (<ipython-input-34-2d92d87085d9>, line 3)",
          "traceback": [
            "\u001b[1;36m  File \u001b[1;32m\"<ipython-input-34-2d92d87085d9>\"\u001b[1;36m, line \u001b[1;32m3\u001b[0m\n\u001b[1;33m    Till now you have learned Naive Bayes classification with binary labels. Now you will learn about multiple class classification in Naive Bayes. Which is known as multinomial Naive Bayes classification. For example, if you want to classify a news article about technology, entertainment, politics, or sports.\u001b[0m\n\u001b[1;37m         ^\u001b[0m\n\u001b[1;31mSyntaxError\u001b[0m\u001b[1;31m:\u001b[0m invalid syntax\n"
          ]
        }
      ]
    },
    {
      "cell_type": "code",
      "metadata": {
        "id": "3c2172fa"
      },
      "source": [
        "#### Loading Data Let's first load the required wine dataset from scikit-learn datasets."
      ],
      "id": "3c2172fa",
      "execution_count": null,
      "outputs": []
    },
    {
      "cell_type": "code",
      "metadata": {
        "id": "a958c5f0"
      },
      "source": [
        "#Import scikit-learn dataset library\n",
        "from sklearn import datasets\n",
        "\n",
        "#Load dataset\n",
        "wine = datasets.load_wine()"
      ],
      "id": "a958c5f0",
      "execution_count": null,
      "outputs": []
    },
    {
      "cell_type": "code",
      "metadata": {
        "id": "0bb1787b"
      },
      "source": [
        "Exploring Data\n",
        "You can print the target and feature names, to make sure you have the right dataset, as such:"
      ],
      "id": "0bb1787b",
      "execution_count": null,
      "outputs": []
    },
    {
      "cell_type": "code",
      "metadata": {
        "id": "41185553",
        "outputId": "c9b9dafe-c51d-47e6-cf24-c479db00b2f8"
      },
      "source": [
        "# print the names of the 13 features\n",
        "print(\"Features: \", wine.feature_names)\n",
        "\n",
        "# print the label type of wine(class_0, class_1, class_2)\n",
        "print(\"\\nLabels: \", wine.target_names)"
      ],
      "id": "41185553",
      "execution_count": null,
      "outputs": [
        {
          "output_type": "stream",
          "text": [
            "Features:  ['alcohol', 'malic_acid', 'ash', 'alcalinity_of_ash', 'magnesium', 'total_phenols', 'flavanoids', 'nonflavanoid_phenols', 'proanthocyanins', 'color_intensity', 'hue', 'od280/od315_of_diluted_wines', 'proline']\n",
            "\n",
            "Labels:  ['class_0' 'class_1' 'class_2']\n"
          ],
          "name": "stdout"
        }
      ]
    },
    {
      "cell_type": "code",
      "metadata": {
        "id": "8740b0f6"
      },
      "source": [
        "It's a good idea to always explore your data a bit, so you know what you're working with. Here, you can see the first five rows of the dataset are printed, as well as the target variable for the whole dataset."
      ],
      "id": "8740b0f6",
      "execution_count": null,
      "outputs": []
    },
    {
      "cell_type": "code",
      "metadata": {
        "id": "64573876",
        "outputId": "408d6564-79ef-4b95-92fc-134b91f5e2e0"
      },
      "source": [
        "# print data(feature)shape\n",
        "wine.data.shape"
      ],
      "id": "64573876",
      "execution_count": null,
      "outputs": [
        {
          "output_type": "execute_result",
          "data": {
            "text/plain": [
              "(178, 13)"
            ]
          },
          "metadata": {
            "tags": []
          },
          "execution_count": 37
        }
      ]
    },
    {
      "cell_type": "code",
      "metadata": {
        "id": "9d8908d2",
        "outputId": "67e86a76-2cde-44b6-ff0f-46c99431a77a"
      },
      "source": [
        "# print the wine data features (top 5 records)\n",
        "print(wine.data[0:5])"
      ],
      "id": "9d8908d2",
      "execution_count": null,
      "outputs": [
        {
          "output_type": "stream",
          "text": [
            "[[1.423e+01 1.710e+00 2.430e+00 1.560e+01 1.270e+02 2.800e+00 3.060e+00\n",
            "  2.800e-01 2.290e+00 5.640e+00 1.040e+00 3.920e+00 1.065e+03]\n",
            " [1.320e+01 1.780e+00 2.140e+00 1.120e+01 1.000e+02 2.650e+00 2.760e+00\n",
            "  2.600e-01 1.280e+00 4.380e+00 1.050e+00 3.400e+00 1.050e+03]\n",
            " [1.316e+01 2.360e+00 2.670e+00 1.860e+01 1.010e+02 2.800e+00 3.240e+00\n",
            "  3.000e-01 2.810e+00 5.680e+00 1.030e+00 3.170e+00 1.185e+03]\n",
            " [1.437e+01 1.950e+00 2.500e+00 1.680e+01 1.130e+02 3.850e+00 3.490e+00\n",
            "  2.400e-01 2.180e+00 7.800e+00 8.600e-01 3.450e+00 1.480e+03]\n",
            " [1.324e+01 2.590e+00 2.870e+00 2.100e+01 1.180e+02 2.800e+00 2.690e+00\n",
            "  3.900e-01 1.820e+00 4.320e+00 1.040e+00 2.930e+00 7.350e+02]]\n"
          ],
          "name": "stdout"
        }
      ]
    },
    {
      "cell_type": "code",
      "metadata": {
        "id": "d7a0c1b8",
        "outputId": "906a9e07-51a0-440c-fc9c-bc32af059caf"
      },
      "source": [
        "# print the wine labels (0:Class_0, 1:class_2, 2:class_2)\n",
        "print(wine.target)"
      ],
      "id": "d7a0c1b8",
      "execution_count": null,
      "outputs": [
        {
          "output_type": "stream",
          "text": [
            "[0 0 0 0 0 0 0 0 0 0 0 0 0 0 0 0 0 0 0 0 0 0 0 0 0 0 0 0 0 0 0 0 0 0 0 0 0\n",
            " 0 0 0 0 0 0 0 0 0 0 0 0 0 0 0 0 0 0 0 0 0 0 1 1 1 1 1 1 1 1 1 1 1 1 1 1 1\n",
            " 1 1 1 1 1 1 1 1 1 1 1 1 1 1 1 1 1 1 1 1 1 1 1 1 1 1 1 1 1 1 1 1 1 1 1 1 1\n",
            " 1 1 1 1 1 1 1 1 1 1 1 1 1 1 1 1 1 1 1 2 2 2 2 2 2 2 2 2 2 2 2 2 2 2 2 2 2\n",
            " 2 2 2 2 2 2 2 2 2 2 2 2 2 2 2 2 2 2 2 2 2 2 2 2 2 2 2 2 2 2]\n"
          ],
          "name": "stdout"
        }
      ]
    },
    {
      "cell_type": "code",
      "metadata": {
        "id": "831092db"
      },
      "source": [
        "Splitting Data\n",
        "First, you separate the columns into dependent and independent variables(or features and label). Then you split those variables into train and test set.\n",
        "\n",
        "Image"
      ],
      "id": "831092db",
      "execution_count": null,
      "outputs": []
    },
    {
      "cell_type": "code",
      "metadata": {
        "id": "6343c2aa"
      },
      "source": [
        "# Import train_test_split function\n",
        "from sklearn.model_selection import train_test_split\n",
        "\n",
        "# Split dataset into training set and test set\n",
        "X_train, X_test, y_train, y_test = train_test_split(wine.data, \n",
        "                                                    wine.target, \n",
        "                                                    test_size=0.3,   # 70% training and 30% test\n",
        "                                                    random_state=109)"
      ],
      "id": "6343c2aa",
      "execution_count": null,
      "outputs": []
    },
    {
      "cell_type": "code",
      "metadata": {
        "id": "6a968203"
      },
      "source": [
        "Model Generation\n",
        "After splitting, you will generate a random forest model on the training set and perform prediction on test set features."
      ],
      "id": "6a968203",
      "execution_count": null,
      "outputs": []
    },
    {
      "cell_type": "code",
      "metadata": {
        "id": "60072039"
      },
      "source": [
        "#Import Gaussian Naive Bayes model\n",
        "from sklearn.naive_bayes import GaussianNB\n",
        "\n",
        "#Create a Gaussian Classifier\n",
        "gnb = GaussianNB()\n",
        "\n",
        "#Train the model using the training sets\n",
        "gnb.fit(X_train, y_train)\n",
        "\n",
        "#Predict the response for test dataset\n",
        "y_pred = gnb.predict(X_test)"
      ],
      "id": "60072039",
      "execution_count": null,
      "outputs": []
    },
    {
      "cell_type": "code",
      "metadata": {
        "id": "9015e6ce"
      },
      "source": [
        "Evaluating Model\n",
        "After model generation, check the accuracy using actual and predicted values."
      ],
      "id": "9015e6ce",
      "execution_count": null,
      "outputs": []
    },
    {
      "cell_type": "code",
      "metadata": {
        "id": "01c1e6f6",
        "outputId": "4650f236-6443-4629-c445-c0e1b9888349"
      },
      "source": [
        "#Import scikit-learn metrics module for accuracy calculation\n",
        "from sklearn import metrics\n",
        "\n",
        "# Model Accuracy, how often is the classifier correct?\n",
        "print(\"Accuracy:\",metrics.accuracy_score(y_test, y_pred))"
      ],
      "id": "01c1e6f6",
      "execution_count": null,
      "outputs": [
        {
          "output_type": "stream",
          "text": [
            "Accuracy: 0.9074074074074074\n"
          ],
          "name": "stdout"
        }
      ]
    },
    {
      "cell_type": "code",
      "metadata": {
        "id": "560219a5"
      },
      "source": [],
      "id": "560219a5",
      "execution_count": null,
      "outputs": []
    },
    {
      "cell_type": "code",
      "metadata": {
        "id": "64dcc471"
      },
      "source": [],
      "id": "64dcc471",
      "execution_count": null,
      "outputs": []
    },
    {
      "cell_type": "code",
      "metadata": {
        "id": "a921ce06"
      },
      "source": [],
      "id": "a921ce06",
      "execution_count": null,
      "outputs": []
    },
    {
      "cell_type": "code",
      "metadata": {
        "id": "3f111ec2"
      },
      "source": [],
      "id": "3f111ec2",
      "execution_count": null,
      "outputs": []
    }
  ]
}